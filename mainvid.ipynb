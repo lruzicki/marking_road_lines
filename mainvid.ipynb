{
 "cells": [
  {
   "cell_type": "code",
   "execution_count": 5,
   "metadata": {},
   "outputs": [],
   "source": [
    "import cv2\n",
    "import numpy as np\n",
    "from matplotlib import pyplot as plt\n",
    "import math\n",
    "\n",
    "def canny(img, low_threshold, high_threshold):\n",
    "        return cv2.Canny(img, low_threshold, high_threshold)"
   ]
  },
  {
   "cell_type": "code",
   "execution_count": 6,
   "metadata": {},
   "outputs": [],
   "source": [
    "blur_kernel_size = (15, 15)\n",
    "canny_low_threshold = 100\n",
    "canny_high_threshold = 250"
   ]
  },
  {
   "cell_type": "code",
   "execution_count": 7,
   "metadata": {},
   "outputs": [
    {
     "name": "stdout",
     "output_type": "stream",
     "text": [
      "67\n"
     ]
    }
   ],
   "source": [
    "cap = cv2.VideoCapture('roadvid.mp4')\n",
    "frame_counter = 0\n",
    "#reaing viedeo frame by frame\n",
    "while cap.isOpened():\n",
    "    ret, frame = cap.read()\n",
    "    r, f = cap.read()\n",
    "    #preaparing image to draw lines\n",
    "    gray_image = cv2.cvtColor(frame, cv2.COLOR_BGR2GRAY)\n",
    "    gray_blur = cv2.GaussianBlur(gray_image, blur_kernel_size, 0)\n",
    "\n",
    "    canny_low_threshold = 100\n",
    "    canny_high_threshold = 250\n",
    "    blur_canny = canny(gray_image,    canny_low_threshold, canny_high_threshold)\n",
    "    img = blur_canny\n",
    "    height, width = img.shape[:2]\n",
    "    h = 1500\n",
    "    w = 600\n",
    "    x = 600\n",
    "    y = 900\n",
    "    img1 = img[x:x+h, y:y+w]\n",
    "    img2 =  np.zeros_like(img)\n",
    "    img2 [x:x+h, y:y+w] = img1\n",
    "    src = img2\n",
    "    dst = cv2.Canny(src, 50, 200, None, 3)\n",
    "    cdst = cv2.cvtColor(dst, cv2.COLOR_GRAY2BGR)\n",
    "    cdstP = np.copy(cdst)\n",
    "    lines = cv2.HoughLines(dst, 1, np.pi / 180, 150, None, 0, 0)\n",
    "    #drawing lines\n",
    "    if lines is not None:\n",
    "        for i in range(0, len(lines)):\n",
    "            rho = lines [i][0][0]\n",
    "            theta = lines [i][0][1]\n",
    "            a = math.cos( theta )\n",
    "            b = math.sin( theta )\n",
    "            x0 = a * rho\n",
    "            y0 = b * rho\n",
    "            pt1 = (int (x0 + 1000 *(-b)), int (y0 + 1000 *(a)))\n",
    "            pt2 = (int (x0 - 1000 *(-b)), int (y0 - 1000 *(a)))\n",
    "            cv2.line( cdst, pt1, pt2, (0,0,255), 3, cv2.LINE_AA)\n",
    "    linesP = cv2.HoughLinesP (dst, 1, np.pi / 180, 50, None, 50, 10)\n",
    "    if linesP is not None:\n",
    "        for i in range(0, len(linesP)):\n",
    "            l = linesP [i][0]\n",
    "            cv2.line(cdstP, (l[0], l[1]), (l[2], l[3]), (0,0,255), 3, cv2.LINE_AA)\n",
    "\n",
    "    #adding raw frame and red lines\n",
    "    img2 = cv2.addWeighted(f, 0.8, cdstP, 1, 0)\n",
    "    #napis\n",
    "    font = cv2.FONT_HERSHEY_SIMPLEX\n",
    "    cv2.putText(img2, \"LUKASZ RUZICKI\", (1250,750), font, 1,(255,255,0), 1, cv2.LINE_AA)\n",
    "    cv2.imshow('sum', img2)\n",
    "    frame_counter = frame_counter + 1\n",
    "\n",
    "    if cv2.waitKey(10) & 0xFF == ord('q'):\n",
    "        break\n",
    "\n",
    "cap.release()\n",
    "cv2.destroyAllWindows() # destroy all opened windows\n",
    "print(count)"
   ]
  }
 ],
 "metadata": {
  "interpreter": {
   "hash": "3ffdc9b6f0e80ba89c3d794edabe626c864327d938f14a6b659a75ce3dab42b7"
  },
  "kernelspec": {
   "display_name": "Python 3.10.4 64-bit",
   "language": "python",
   "name": "python3"
  },
  "language_info": {
   "codemirror_mode": {
    "name": "ipython",
    "version": 3
   },
   "file_extension": ".py",
   "mimetype": "text/x-python",
   "name": "python",
   "nbconvert_exporter": "python",
   "pygments_lexer": "ipython3",
   "version": "3.10.4"
  },
  "orig_nbformat": 4
 },
 "nbformat": 4,
 "nbformat_minor": 2
}
